{
  "nbformat": 4,
  "nbformat_minor": 0,
  "metadata": {
    "colab": {
      "provenance": []
    },
    "kernelspec": {
      "name": "python3",
      "display_name": "Python 3"
    },
    "language_info": {
      "name": "python"
    }
  },
  "cells": [
    {
      "cell_type": "code",
      "execution_count": null,
      "metadata": {
        "id": "bIzQoTUtM3o8"
      },
      "outputs": [],
      "source": [
        "import cv2\n",
        "import numpy as np\n",
        "from google.colab import drive\n",
        "from google.colab.patches import cv2_imshow\n"
      ]
    },
    {
      "cell_type": "code",
      "source": [
        "# Mount Google Drive (authentication required)\n",
        "drive.mount('/content/gdrive')"
      ],
      "metadata": {
        "colab": {
          "base_uri": "https://localhost:8080/"
        },
        "id": "Qm34G1sRNtwl",
        "outputId": "302afd2e-9f73-4d11-f73e-bc484b1bac32"
      },
      "execution_count": null,
      "outputs": [
        {
          "output_type": "stream",
          "name": "stdout",
          "text": [
            "Mounted at /content/gdrive\n"
          ]
        }
      ]
    },
    {
      "cell_type": "code",
      "source": [
        "# Blur Classification\n",
        "\n",
        "import cv2\n",
        "import numpy as np\n",
        "\n",
        "def local_variance(image, neighborhood_size):\n",
        "  \"\"\"\n",
        "  Calculates local variance of a grayscale image.\n",
        "\n",
        "  Args:\n",
        "      image: The grayscale image as a NumPy array.\n",
        "      neighborhood_size: Size of the local neighborhood.\n",
        "\n",
        "  Returns:\n",
        "      A NumPy array containing the local variance for each pixel.\n",
        "  \"\"\"\n",
        "  rows, cols = image.shape\n",
        "  variance = np.zeros_like(image, dtype=np.float64)\n",
        "\n",
        "  # Iterate over each pixel and calculate variance in its neighborhood\n",
        "  for i in range(neighborhood_size // 2, rows - neighborhood_size // 2):\n",
        "    for j in range(neighborhood_size // 2, cols - neighborhood_size // 2):\n",
        "      neighborhood = image[i - neighborhood_size // 2 : i + neighborhood_size // 2 + 1,\n",
        "                           j - neighborhood_size // 2 : j + neighborhood_size // 2 + 1]\n",
        "      variance[i, j] = np.var(neighborhood)\n",
        "\n",
        "  return variance\n",
        "\n",
        "def analyze_blur_gaussian(image):\n",
        "  \"\"\"\n",
        "  Analyzes image for Gaussian blur based on local variance distribution.\n",
        "\n",
        "  Args:\n",
        "      image: The input image as a NumPy array.\n",
        "\n",
        "  Returns:\n",
        "      True if Gaussian blur is likely, False otherwise.\n",
        "  \"\"\"\n",
        "  gray = cv2.cvtColor(image, cv2.COLOR_BGR2GRAY)\n",
        "\n",
        "  # Define neighborhood size for variance calculation\n",
        "  neighborhood_size = 5\n",
        "\n",
        "  # Calculate local variance\n",
        "  variance = local_variance(gray, neighborhood_size)\n",
        "\n",
        "  # Analyze variance distribution for Gaussian blur characteristics\n",
        "  # - Relatively low variance overall\n",
        "  # - Smooth transitions between regions of varying variance\n",
        "  low_variance_ratio = np.count_nonzero(variance < variance.mean()) / variance.size\n",
        "  smooth_transitions = cv2.Laplacian(variance, cv2.CV_64F).var() < 10  # Adjust threshold as needed\n",
        "\n",
        "  return low_variance_ratio > 0.7 and smooth_transitions\n",
        "\n",
        "def analyze_blur(image):\n",
        "  \"\"\"\n",
        "  Analyzes blur type (Gaussian or motion) based on local variance.\n",
        "\n",
        "  Args:\n",
        "      image: The input image as a NumPy array.\n",
        "\n",
        "  Returns:\n",
        "      A string indicating \"Gaussian blur\", \"Motion blur\" (likely),\n",
        "      or \"Unknown blur\" if inconclusive.\n",
        "  \"\"\"\n",
        "  # Check for Gaussian blur first\n",
        "  is_gaussian_blur = analyze_blur_gaussian(image)\n",
        "  if is_gaussian_blur:\n",
        "    return \"Gaussian blur\"\n",
        "  else:\n",
        "    # If not Gaussian, analyze for motion blur (using original approach)\n",
        "    gray = cv2.cvtColor(image, cv2.COLOR_BGR2GRAY)\n",
        "    neighborhood_size = 5\n",
        "    variance = local_variance(gray, neighborhood_size)\n",
        "    high_variance_ratio = np.count_nonzero(variance > variance.mean()) / variance.size\n",
        "    if high_variance_ratio > 0.2:\n",
        "      return \"Motion blur (likely)\"\n",
        "    else:\n",
        "      return \"Unknown blur\"\n"
      ],
      "metadata": {
        "id": "GfIpESsfeEce"
      },
      "execution_count": null,
      "outputs": []
    },
    {
      "cell_type": "code",
      "source": [
        "import scipy\n",
        "\n",
        "def classify_image(image_path):\n",
        "  \"\"\"\n",
        "  Classifies an image into blurry, noisy, or good based on Laplacian variance and standard deviation.\n",
        "\n",
        "  Args:\n",
        "      image_path (str): Path to the image file.\n",
        "\n",
        "  Returns:\n",
        "      str: Classification label (\"blurry\", \"noisy\", or \"good\").\n",
        "  \"\"\"\n",
        "\n",
        "# Read image in grayscale (recommended)\n",
        "  img = cv2.imread(image_path, cv2.IMREAD_GRAYSCALE)\n",
        "\n",
        "  # Check if image read successfully (optional, but good practice)\n",
        "  if img is None:\n",
        "      print(\"Error: Could not read image from\", image_path)\n",
        "      return None  # Or raise an exception\n",
        "\n",
        "  # Display the image\n",
        "  cv2_imshow(cv2.imread(image_path))\n",
        "\n",
        "\n",
        "  # Calculate Laplacian variance for blur detection\n",
        "  laplacian = cv2.Laplacian(img, cv2.CV_64F).var()\n",
        "  print(laplacian)\n",
        "  blur_threshold = 800  # Adjust based on image characteristics\n",
        "\n",
        "\n",
        "  # Calculate standard deviation for noise detection\n",
        "  std_dev = np.std(img)\n",
        "  print(std_dev)\n",
        "  noise_threshold = 55  # Adjust based on image characteristics\n",
        "\n",
        "  result = ''\n",
        "  blur = 0\n",
        "  noise = 0\n",
        "\n",
        "  # Classification logic\n",
        "  if laplacian < blur_threshold:\n",
        "    blur = 1\n",
        "    result += \" Blurry, \"\n",
        "    image = cv2.imread(image_path)\n",
        "    result += \" Blur Type \" + analyze_blur(image)\n",
        "\n",
        "  if std_dev > noise_threshold:\n",
        "    noise = 1\n",
        "    result += \"|| Noisy, \"\n",
        "    #checking type of Noise\n",
        "    # Flatten image data\n",
        "    img_data = img.flatten()\n",
        "\n",
        "    # Calculate kurtosis\n",
        "    kurtosis = np.abs(scipy.stats.kurtosis(img_data))  # Import scipy.stats\n",
        "\n",
        "    print(kurtosis)\n",
        "\n",
        "    # Thresholds (adjust based on your observations)\n",
        "    salt_pepper_threshold = 0.75  # High kurtosis for salt-and-pepper noise\n",
        "    gaussian_threshold = 0.75  # Low kurtosis for Gaussian noise\n",
        "\n",
        "    # Classification logic\n",
        "    if kurtosis > salt_pepper_threshold:\n",
        "      result += \" Noise Type: Salt-and-Pepper\"\n",
        "\n",
        "    elif kurtosis < gaussian_threshold:\n",
        "      result += \" Noise Type: Gaussian\"\n",
        "\n",
        "    else:\n",
        "      result += \" Noise Type: Unknown\"\n",
        "\n",
        "  if blur == 0 and noise == 0:\n",
        "    result = \"Good\"\n",
        "\n",
        "  return result\n"
      ],
      "metadata": {
        "id": "yfv8wagpN2a0"
      },
      "execution_count": null,
      "outputs": []
    },
    {
      "cell_type": "code",
      "source": [
        "# Example usage\n",
        "image_path = \"/content/gdrive/MyDrive/Sample Images/Motion Blur 1.jpeg\"  # Replace with your correct image path\n",
        "classification = classify_image(image_path)\n",
        "if classification:  # Check if classification was successful\n",
        "    print(\"Image classification:\", classification)"
      ],
      "metadata": {
        "colab": {
          "base_uri": "https://localhost:8080/",
          "height": 312
        },
        "id": "YV0EyXltXZvL",
        "outputId": "60dce1e5-584b-4437-a787-f1f79edfb6b2"
      },
      "execution_count": null,
      "outputs": [
        {
          "output_type": "display_data",
          "data": {
            "text/plain": [
              "<PIL.Image.Image image mode=RGB size=223x226>"
            ],
            "image/png": "[encoded data removed]"
          },
          "metadata": {}
        },
        {
          "output_type": "stream",
          "name": "stdout",
          "text": [
            "75.32225417538766\n",
            "55.66237317588288\n",
            "0.739856417328296\n",
            "Image classification:  Blurry,  Blur Type Motion blur (likely)|| Noisy,  Noise Type: Gaussian\n"
          ]
        }
      ]
    },
    {
      "cell_type": "code",
      "source": [],
      "metadata": {
        "id": "qJ1z7USoOlaZ"
      },
      "execution_count": null,
      "outputs": []
    }
  ]
}